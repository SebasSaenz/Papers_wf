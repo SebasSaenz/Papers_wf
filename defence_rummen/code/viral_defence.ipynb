{
 "cells": [
  {
   "cell_type": "markdown",
   "id": "830469b9-f364-4ff3-9d43-acb49036b3ed",
   "metadata": {},
   "source": [
    "# Diversity of defence mechanism in cow rumen microbiome"
   ]
  },
  {
   "cell_type": "code",
   "execution_count": 1,
   "id": "56537f2c-8079-4321-91bb-f09a6a2646bf",
   "metadata": {},
   "outputs": [],
   "source": [
    "#bash funtion and main path\n",
    "def bash(string,name,queue):\n",
    "  script = \"%s.sh\"%name\n",
    "  with open(script, \"w\") as text_file:\n",
    "    text_file.write(string)\n",
    "  !chmod +x $script\n",
    "  !qsub -q $queue $script\n",
    "  #!rm $script\n",
    "  \n",
    "ws = '/beegfs/work/workspace/ws/ho_kezau83-rumen_df-0/'\n"
   ]
  },
  {
   "cell_type": "code",
   "execution_count": 4,
   "id": "fe0df233-de83-4d0a-aebc-d386b739b60b",
   "metadata": {},
   "outputs": [
    {
     "name": "stdout",
     "output_type": "stream",
     "text": [
      "\n",
      "mgmt02: \n",
      "                                                                                  Req'd       Req'd       Elap\n",
      "Job ID                  Username    Queue    Jobname          SessID  NDS   TSK   Memory      Time    S   Time\n",
      "----------------------- ----------- -------- ---------------- ------ ----- ------ --------- --------- - ---------\n",
      "11076150                ho_kezau83  smp      gtdbtk_classify.    --      1     20     150gb  72:00:00 Q       -- \n",
      "11076161                ho_kezau83  long     gtdbtk_classify.   1514     1     16      64gb  96:00:00 R  00:46:18\n"
     ]
    }
   ],
   "source": [
    "#control the submitted jobs\n",
    "!qstat -u ho_kezau83"
   ]
  },
  {
   "cell_type": "code",
   "execution_count": null,
   "id": "9a28d745-ae6c-44a0-ac97-a2bbfc8681d9",
   "metadata": {},
   "outputs": [],
   "source": [
    "#delete specific jobs\n",
    "!qdel 10904183"
   ]
  },
  {
   "cell_type": "code",
   "execution_count": null,
   "id": "47c3b86f-ad26-4a63-99da-597ee88638f8",
   "metadata": {},
   "outputs": [],
   "source": [
    "#delete all jobs in queue\n",
    "!qselect -u ho_kezau83 -s Q | xargs qdel"
   ]
  },
  {
   "cell_type": "code",
   "execution_count": null,
   "id": "80efeb3b-01e4-4c21-a337-ee6e2a806867",
   "metadata": {},
   "outputs": [],
   "source": [
    "#delte files\n",
    "!rm *cctyper.sh*"
   ]
  },
  {
   "cell_type": "markdown",
   "id": "d7114bc4-7de8-4be1-8b2c-449ade7991e9",
   "metadata": {},
   "source": [
    "## Download and clean the Hungate1000 genomes"
   ]
  },
  {
   "cell_type": "code",
   "execution_count": null,
   "id": "42407225-97d1-4689-91d8-3229e6be7d25",
   "metadata": {},
   "outputs": [],
   "source": [
    "#Create list of file indexes to access it later\n",
    "import os\n",
    "!rm -r bulk_data_91600/.ipynb_checkpoints\n",
    "genomes = sorted(list(f.split('.')[0] for f in os.listdir('bulk_data_91600-2')))"
   ]
  },
  {
   "cell_type": "code",
   "execution_count": null,
   "id": "44aa2545-012f-4beb-9da9-34154c392c6b",
   "metadata": {},
   "outputs": [],
   "source": [
    "for genome in genomes:\n",
    "    file_in = 'bulk_data_91600-2/%s/Assembly/QC_and_Genome_Assembly/finalContigs.fasta' %genome\n",
    "    file_out = 'genomes_clean/%s.fasta' %genome\n",
    "    !mv $file_in $file_out"
   ]
  },
  {
   "cell_type": "markdown",
   "id": "8a2b385a-d973-4220-a4f4-e676086f639b",
   "metadata": {},
   "source": [
    "## Download and clean the Mgnify genomes"
   ]
  },
  {
   "cell_type": "code",
   "execution_count": null,
   "id": "939d7428-4b3f-46f4-8118-6545a2340df7",
   "metadata": {},
   "outputs": [],
   "source": [
    "#Dowload the genomes using a bash line\n",
    "for genome in $(tail -n +2 genomes-all_metadata.csv | cut -d$'\\t' -f 20 ); do wget $genome; done\n"
   ]
  },
  {
   "cell_type": "code",
   "execution_count": null,
   "id": "0517ef82-19d1-4cc4-8d8e-67b377207db7",
   "metadata": {},
   "outputs": [],
   "source": [
    "#Create list of file indexes to access it later\n",
    "import os\n",
    "!rm -r genomes/.ipynb_checkpoints\n",
    "genomes = sorted(list(f.split('.')[0] for f in os.listdir('hq_genomes/')))"
   ]
  },
  {
   "cell_type": "code",
   "execution_count": null,
   "id": "754c7599-569e-4942-a2a9-b560d6f07fff",
   "metadata": {},
   "outputs": [],
   "source": [
    "#Extract only the contigs from the GFF file\n",
    "out_dir = ws+'/fasta_genomes'\n",
    "for genome in genomes:\n",
    "    file = ws+'/mags/%s.gff' %genome\n",
    "    out_file = out_dir+'/%s.fasta' %genome\n",
    "    !sed -n '/##FASTA/ ,$p' $file | sed '1d' > $out_file"
   ]
  },
  {
   "cell_type": "markdown",
   "id": "f7c57ec1-3e8a-44de-8e04-87ad6cb8aadb",
   "metadata": {},
   "source": [
    "## Download Phage db https://github.com/RyanCook94/inphared"
   ]
  },
  {
   "cell_type": "code",
   "execution_count": null,
   "id": "eb3e18ef-d4a7-4cbc-86d1-0e14ef05b4b1",
   "metadata": {},
   "outputs": [],
   "source": [
    "!wget http://inphared.s3.climb.ac.uk/1Apr2022_genomes_excluding_refseq.fa"
   ]
  },
  {
   "cell_type": "markdown",
   "id": "82abd02d-82bc-4ad1-99f1-904c0d3768fd",
   "metadata": {},
   "source": [
    "## Download phage JGI DB"
   ]
  },
  {
   "cell_type": "code",
   "execution_count": null,
   "id": "8d4ff514-c9c3-4cfa-8e6f-b094103b5e96",
   "metadata": {},
   "outputs": [],
   "source": [
    "#selecet only reference genomes using R\n",
    "library(tidyverse)\n",
    "\n",
    "sed <- read_tsv(\"IMG_VR-3/IMG_VR_2020-10-12_5.1/IMGVR_all_Sequence_information.tsv\")\n",
    " colnames(sed)[1] <- \"Genome\n",
    "\n",
    "filter_vir <- sed %>% \n",
    "  filter(`MIUViG quality`==\"Reference\") %>% \n",
    "  select(Genome)\n",
    "\n",
    "write_delim(filter_vir, file = \"list_virus_jgi.txt\", delim = \"\\t\")"
   ]
  },
  {
   "cell_type": "code",
   "execution_count": null,
   "id": "de6b5cfd-3683-40f0-8f11-b1582ca9506d",
   "metadata": {},
   "outputs": [],
   "source": [
    "#linearize db the db\n",
    "string = '''\n",
    "#PBS -l nodes=1:ppn=10\n",
    "#PBS -l walltime=08:00:00\n",
    "#PBS -l mem=60gb\n",
    "#PBS -S /bin/bash\n",
    "\n",
    "awk '/^>/ {printf(\"%s%s\\t\",(N>0?\"\\n\":\"\"),$0);N++;next;} {printf(\"%s\",$0);} END {printf(\"\\n\");}' < %s > %s\n",
    "'''\n",
    "\n",
    "path_db = ws+'/IMGVR_all_nucleotides.fna'\n",
    "out_file = ws+'/linear_IMGVR_reference.fna'\n",
    "bash(string%(path_db, out_file),'linear_fasta','short')"
   ]
  },
  {
   "cell_type": "code",
   "execution_count": null,
   "id": "2092468c-51d8-4bbd-8898-576bfcb33dea",
   "metadata": {},
   "outputs": [],
   "source": [
    "#filter the db using the id_list created using R. Only References genomes will be kept\n",
    "string = '''\n",
    "#PBS -l nodes=1:ppn=10\n",
    "#PBS -l walltime=08:00:00\n",
    "#PBS -l mem=60gb\n",
    "#PBS -S /bin/bash\n",
    "\n",
    "cat %s | grep -A 1 -f %s > %s\n",
    "'''\n",
    "\n",
    "path_db = ws+'/linear_IMGVR_all_nucleotides.fna'\n",
    "list_file = ws+'/list_virus_jgi_2.txt'\n",
    "out_file = ws+'/IMGVR_reference.fna'\n",
    "bash(string%(path_db,list_file, out_file),'grep','short')"
   ]
  },
  {
   "cell_type": "markdown",
   "id": "b3fbce45-a2d0-4c67-ad92-0742eb66dfe9",
   "metadata": {},
   "source": [
    "## Genomes QC"
   ]
  },
  {
   "cell_type": "code",
   "execution_count": null,
   "id": "94e37719-284f-4303-b1c0-e3c35c00fc30",
   "metadata": {},
   "outputs": [],
   "source": [
    "#check genomes QC, split genomes in 1000\n",
    "string = '''\n",
    "#PBS -l nodes=1:ppn=14\n",
    "#PBS -l walltime=48:00:00\n",
    "#PBS -l mem=64gb\n",
    "#PBS -S /bin/bash\n",
    "\n",
    "source /beegfs/work/workspace/ws/ho_kezau83-conda-0/conda/etc/profile.d/conda.sh\n",
    "conda activate checkm2\n",
    "checkm2 predict --threads 14 \\\n",
    "                --input %s \\\n",
    "                --extension .fasta \\\n",
    "                --output-directory %s \\\n",
    "                --database_path /beegfs/work/workspace/ws/ho_kezau83-conda-0/checkm2/CheckM2_database/uniref100.KO.1.dmnd \\\n",
    "                --tmpdir %s\n",
    "conda deactivate\n",
    "'''\n",
    "genomes_path = ws+'/archive_genomes/formatted_genomes/'\n",
    "out_file = ws+'/checkm2'\n",
    "temdir = ws+'/temp'\n",
    "bash(string%(genomes_path, out_file, temdir),'checkM2_low','short')"
   ]
  },
  {
   "cell_type": "markdown",
   "id": "253f4e6a-71ab-413b-8d77-a3b65bd0471b",
   "metadata": {},
   "source": [
    "## Taxonomic annotation of genomes"
   ]
  },
  {
   "cell_type": "code",
   "execution_count": null,
   "id": "913f27fe-28df-4705-933d-d03e5f775946",
   "metadata": {},
   "outputs": [],
   "source": [
    "string ='''\n",
    "#PBS -l nodes=1:ppn=20\n",
    "#PBS -l walltime=48:00:00\n",
    "#PBS -l mem=150gb\n",
    "#PBS -q smp\n",
    "#PBS -S /bin/bash\n",
    "# Activate conda enviroment\n",
    "source /beegfs/work/workspace/ws/ho_kezau83-conda-0/conda/etc/profile.d/conda.sh\n",
    "conda activate gtdbtk\n",
    "# Run\n",
    "gtdbtk classify_wf --genome_dir %s --extension fasta --out_dir %s --cpus 20\n",
    "'''\n",
    "path_genomes = ws+'/archive_genomes/formatted_genomes/'\n",
    "out_dir = ws+'/gtdb_classify_all'\n",
    "!mkdir $out_dir\n",
    "bash(string%(path_genomes, out_dir), 'gtdbtk_classify', 'smp')"
   ]
  },
  {
   "cell_type": "code",
   "execution_count": null,
   "id": "511d6211-946a-404b-a630-889cb5a2d38e",
   "metadata": {},
   "outputs": [],
   "source": [
    "hq_genomes = open('hq_genomes.txt').read().splitlines()\n",
    "hq_genomes"
   ]
  },
  {
   "cell_type": "code",
   "execution_count": null,
   "id": "4e87cad2-2457-4c81-96ff-bf3ffe109812",
   "metadata": {},
   "outputs": [],
   "source": [
    "for hq_genome in hq_genomes:\n",
    "    file_in = 'archive_genomes/formatted_genomes/%s.fasta' %hq_genome\n",
    "    file_out = 'hq_genomes/%s.fasta' %hq_genome\n",
    "    !cp $file_in $file_out"
   ]
  },
  {
   "cell_type": "markdown",
   "id": "949101eb-278c-4848-9ab9-6256d1c401f2",
   "metadata": {},
   "source": [
    "## Phylogeny and tree construction"
   ]
  },
  {
   "cell_type": "code",
   "execution_count": null,
   "id": "0cf7fb4e-0430-4cb7-9191-bf5272fa2d50",
   "metadata": {},
   "outputs": [],
   "source": [
    "#config file\n",
    "string = '''\n",
    "#PBS -l nodes=1:ppn=1\n",
    "#PBS -l walltime=01:00:00\n",
    "#PBS -l mem=10gb\n",
    "#PBS -S /bin/bash\n",
    "\n",
    "source /beegfs/work/workspace/ws/ho_kezau83-conda-0/conda/etc/profile.d/conda.sh\n",
    "conda activate phylophlan\n",
    "\n",
    "phylophlan_write_config_file -o %s \\\n",
    "    -d a \\\n",
    "    --db_aa diamond \\\n",
    "    --map_aa diamond \\\n",
    "    --map_dna diamond \\\n",
    "    --msa mafft \\\n",
    "    --tree1 fasttree \\\n",
    "    --tree2 raxml\n",
    "\n",
    "conda deactivate\n",
    "'''\n",
    "out_file = ws+'/custom_config_nt.cfg'\n",
    "bash(string%(out_file),'phylophlan_custom','short')\n"
   ]
  },
  {
   "cell_type": "code",
   "execution_count": null,
   "id": "422648e9-7bec-4e50-a1dc-8d647790544a",
   "metadata": {},
   "outputs": [],
   "source": [
    "#run Phylophlan\n",
    "string = '''\n",
    "#PBS -l nodes=1:ppn=30\n",
    "#PBS -l walltime=72:00:00\n",
    "#PBS -l mem=200gb\n",
    "#PBS -S /bin/bash\n",
    "\n",
    "source /beegfs/work/workspace/ws/ho_kezau83-conda-0/conda/etc/profile.d/conda.sh\n",
    "conda activate phylophlan\n",
    "\n",
    "cd /beegfs/work/workspace/ws/ho_kezau83-rumen_df-0/phylophlan\n",
    "\n",
    "\n",
    "python /beegfs/work/workspace/ws/ho_kezau83-conda-0/phylophlan/phylophlan/phylophlan.py -i %s \\\n",
    "    --output_folder %s \\\n",
    "    --genome_extension .fasta \\\n",
    "    -d phylophlan \\\n",
    "    -t a \\\n",
    "    --diversity high \\\n",
    "    --accurate \\\n",
    "    -f %s \\\n",
    "    --nproc 30 \\\n",
    "'''\n",
    "!mkdir phylophlan\n",
    "genomes = ws+'/padloc/faa'\n",
    "out_file = ws+'/phylophlan'\n",
    "config = ws+'/custom_config_nt.cfg'\n",
    "bash(string%(genomes, out_file, config),'phylophlan','smp')"
   ]
  },
  {
   "cell_type": "code",
   "execution_count": null,
   "id": "c038359e-0a0b-4ab8-b3b7-b956356d8015",
   "metadata": {},
   "outputs": [],
   "source": [
    "!rm -r phylophlan/"
   ]
  },
  {
   "cell_type": "code",
   "execution_count": null,
   "id": "b8643f59-60c3-44b3-97aa-564e10d1893f",
   "metadata": {},
   "outputs": [],
   "source": [
    "import os\n",
    "hq_genomes = sorted(list(f.split('.')[0] for f in os.listdir('hq_genomes//')))\n",
    "hq_genomes"
   ]
  },
  {
   "cell_type": "markdown",
   "id": "d9fcf390-39ac-416a-a6a1-103e792ee23b",
   "metadata": {},
   "source": [
    "## Annotation of defence systems"
   ]
  },
  {
   "cell_type": "code",
   "execution_count": null,
   "id": "08d7a2eb-788f-4a41-92d2-c480c76c25d8",
   "metadata": {},
   "outputs": [],
   "source": [
    "string = '''\n",
    "#PBS -l nodes=1:ppn=10\n",
    "#PBS -l walltime=08:00:00\n",
    "#PBS -l mem=10gb\n",
    "#PBS -S /bin/bash\n",
    "source /beegfs/work/workspace/ws/ho_kezau83-conda-0/conda/etc/profile.d/conda.sh\n",
    "conda activate padloc\n",
    "cd /beegfs/work/workspace/ws/ho_kezau83-rumen_df-0/padloc_chicken\n",
    "padloc --fna %s --cpu 10\n",
    "conda deactivate\n",
    "'''\n",
    "!mkdir padloc\n",
    "for hq_genome in hq_genomes:\n",
    "    path_genomes_fasta = ws+'/chickens_all/%s.fasta' %hq_genome\n",
    "    bash(string%(path_genomes_fasta),'%s_padloc'%hq_genome,'short')"
   ]
  },
  {
   "cell_type": "code",
   "execution_count": null,
   "id": "072321d2-d9bc-4b2f-91e3-07fb595c5621",
   "metadata": {},
   "outputs": [],
   "source": [
    "!mv padloc_isolates/*.csv padloc_csv/"
   ]
  },
  {
   "cell_type": "code",
   "execution_count": null,
   "id": "80eac85c-d7f2-485a-83bd-56425881c937",
   "metadata": {},
   "outputs": [],
   "source": [
    "!zip chicken_virus padloc_chicken/*csv"
   ]
  },
  {
   "cell_type": "code",
   "execution_count": null,
   "id": "8d0bd624-fb23-4c46-bc84-0afd900b6a60",
   "metadata": {},
   "outputs": [],
   "source": [
    "!ls padloc_csv | wc"
   ]
  },
  {
   "cell_type": "code",
   "execution_count": null,
   "id": "dec090f0-4146-436c-84bd-b0d671f095a7",
   "metadata": {},
   "outputs": [],
   "source": [
    "!rm *padloc.sh*"
   ]
  },
  {
   "cell_type": "code",
   "execution_count": null,
   "id": "8b328505-9785-48f5-bf86-6b17dbaba227",
   "metadata": {},
   "outputs": [],
   "source": [
    "!mv *padloc.sh* padloc_sh/"
   ]
  },
  {
   "cell_type": "markdown",
   "id": "b6eab260-a2ed-4c86-ad8f-e8353b5a4dec",
   "metadata": {},
   "source": [
    "## Prediction of lysogenic Phages"
   ]
  },
  {
   "cell_type": "code",
   "execution_count": null,
   "id": "327481ea-352e-4498-bd15-89daf9f41bde",
   "metadata": {},
   "outputs": [],
   "source": [
    "# add genome names in the headers of contigs for the hungate collection\n",
    "\n",
    "for genome in genomes:\n",
    "    file = ws+'/fasta_genomes/%s.fasta' % genome\n",
    "    out = ws+'/formatted_genomes/%s.fasta' % genome\n",
    "    header = r\"s/>/>'{}'_/g\".format(genome) \n",
    "    !sed $'{header}' $file > $out "
   ]
  },
  {
   "cell_type": "code",
   "execution_count": null,
   "id": "d88f1c6e-eeb8-4dd1-be41-7032de537b77",
   "metadata": {},
   "outputs": [],
   "source": [
    "!cat hq_genomes/* > all_genomes.fasta"
   ]
  },
  {
   "cell_type": "code",
   "execution_count": null,
   "id": "ed2ec3cd-4c98-4942-b46b-c99c04944972",
   "metadata": {},
   "outputs": [],
   "source": [
    "#virsoter2\n",
    "#find the lysogenic phages in the genomes\n",
    "string = '''\n",
    "#PBS -l nodes=1:ppn=30\n",
    "#PBS -l walltime=8:00:00:00\n",
    "#PBS -l mem=300gb\n",
    "#PBS -S /bin/bash\n",
    "\n",
    "#activate conda\n",
    "source /beegfs/work/workspace/ws/ho_kezau83-conda-0/conda/etc/profile.d/conda.sh\n",
    "conda activate vs2\n",
    "\n",
    "#run program\n",
    "virsorter run --keep-original-seq -i %s -w %s --min-length 9999 -j 30 all\n",
    "'''\n",
    "in_file = ws+'/all_genomes.fasta'\n",
    "out_file = ws+'/vs2_out_all'\n",
    "!mkdir $out_file\n",
    "bash(string%(in_file, out_file), 'vs2', 'smp')"
   ]
  },
  {
   "cell_type": "code",
   "execution_count": null,
   "id": "f37f13b1-e6fc-4397-a403-342cbe1bf03a",
   "metadata": {},
   "outputs": [],
   "source": [
    "#checkV\n",
    "#clean the viral contigs\n",
    "string = '''\n",
    "#PBS -l nodes=1:ppn=20\n",
    "#PBS -l walltime=72:00:00\n",
    "#PBS -l mem=200gb\n",
    "#PBS -S /bin/bash\n",
    "\n",
    "#activate conda\n",
    "source /beegfs/work/workspace/ws/ho_kezau83-conda-0/conda/etc/profile.d/conda.sh\n",
    "conda activate checkv\n",
    "\n",
    "checkv end_to_end %s %s -t 20 -d %s\n",
    "\n",
    "conda deactivate\n",
    "'''\n",
    "in_file = ws+'/vs2_out_all/final-viral-combined.fa'\n",
    "db = '/beegfs/work/workspace/ws/ho_kezau83-conda-0/checkv_db/checkv-db-v1.0'\n",
    "out_file = ws+'/checkv'\n",
    "!mkdir $out_file\n",
    "bash(string%(in_file, out_file, db), 'checkv', 'smp')"
   ]
  },
  {
   "cell_type": "code",
   "execution_count": null,
   "id": "0683eb60-60db-46a9-95be-12b02c17753b",
   "metadata": {},
   "outputs": [],
   "source": [
    "#prodigal\n",
    "#redict genes and proteins\n",
    "string = '''\n",
    "#PBS -l nodes=1:ppn=16\n",
    "#PBS -l walltime=2:00:00\n",
    "#PBS -l mem=64gb\n",
    "#PBS -S /bin/bash\n",
    "\n",
    "#activate conda\n",
    "source /beegfs/work/workspace/ws/ho_kezau83-conda-0/conda/etc/profile.d/conda.sh\n",
    "conda activate padloc\n",
    "\n",
    "prodigal -i %s -o %s -a %s  -p meta\n",
    "\n",
    "conda deactivate\n",
    "'''\n",
    "in_file = ws+'/checkv/filtered_proviruses.fna'\n",
    "outfile1 = ws+'/checkv/filtered_proviruses.gbk'\n",
    "outfile2 = ws+'/checkv/filtered_proviruses.faa'\n",
    "bash(string%(in_file, outfile1, outfile2), 'prodigal', 'short')"
   ]
  },
  {
   "cell_type": "markdown",
   "id": "8c2e3e92-db46-4d94-afcf-c8d845aaa0a0",
   "metadata": {},
   "source": [
    "# Annotation of Proviruses"
   ]
  },
  {
   "cell_type": "code",
   "execution_count": null,
   "id": "8f7e9783-f81b-410b-ba40-52a621450ce6",
   "metadata": {},
   "outputs": [],
   "source": [
    "#vcontact2\n",
    "#redict genes and proteins\n",
    "string = '''\n",
    "#PBS -l nodes=1:ppn=16\n",
    "#PBS -l walltime=2:00:00\n",
    "#PBS -l mem=64gb\n",
    "#PBS -S /bin/bash\n",
    "\n",
    "source /beegfs/work/workspace/ws/ho_kezau83-conda-0/conda/etc/profile.d/conda.sh\n",
    "conda activate vcontact2\n",
    "\n",
    "vcontact2_gene2genome -p %s -o %s -s 'Prodigal-FAA'\n",
    "\n",
    "conda deactivate\n",
    "'''\n",
    "\n",
    "infile = ws+'/checkv/clean_filtered_proviruses.faa'\n",
    "outfile = ws+'/checkv/viral_genomes_g2g.csv'\n",
    "bash(string%(infile, outfile), 'vcontact2', 'short')"
   ]
  },
  {
   "cell_type": "code",
   "execution_count": null,
   "id": "6ea5a23f-fea1-4886-8de4-7660bbfedef8",
   "metadata": {},
   "outputs": [],
   "source": [
    "#vcontact2\n",
    "#redict genes and proteins\n",
    "string = '''\n",
    "#PBS -l nodes=1:ppn=25\n",
    "#PBS -l walltime=48:00:00\n",
    "#PBS -l mem=250gb\n",
    "#PBS -S /bin/bash\n",
    "\n",
    "module load devel/java_jdk/11.0.4\n",
    "#activate conda\n",
    "source /beegfs/work/workspace/ws/ho_kezau83-conda-0/conda/etc/profile.d/conda.sh\n",
    "conda activate vContact2\n",
    "\n",
    "vcontact2 --raw-proteins %s \\\n",
    "--rel-mode Diamond \\\n",
    "--proteins-fp %s \\\n",
    "--db 'ProkaryoticViralRefSeq97-Merged' \\\n",
    "--pcs-mode MCL --vcs-mode ClusterONE \\\n",
    "--c1-bin /beegfs/work/workspace/ws/ho_kezau83-conda-0/conda/envs/vcontact2/bin/cluster_one-1.0.jar \\\n",
    "--output-dir %s \\\n",
    "-t 25\n",
    "\n",
    "conda deactivate\n",
    "'''\n",
    "infile = ws+'/checkv/clean_filtered_proviruses.faa'\n",
    "g2g = ws+'/checkv/viral_genomes_g2g.csv'\n",
    "outfile = ws+'/vcontact2'\n",
    "!mkdir $outfile\n",
    "bash(string%(infile, g2g, outfile), 'vcontact2', 'smp')"
   ]
  },
  {
   "cell_type": "markdown",
   "id": "52517417-6830-4fd6-9f10-05ee67199a0d",
   "metadata": {},
   "source": [
    "## CRISPRcasTyper "
   ]
  },
  {
   "cell_type": "code",
   "execution_count": null,
   "id": "f9d86dd6-11a0-4551-87c6-15185a1fc713",
   "metadata": {},
   "outputs": [],
   "source": [
    "#done\n",
    "genomes_500 = genomes[1:500]\n",
    "genoms_1500\n",
    "genomes_2500\n",
    "genomes_3500\n",
    "genomes_5500"
   ]
  },
  {
   "cell_type": "code",
   "execution_count": null,
   "id": "13acf320-62fe-4e65-bca8-1aed551a8eb3",
   "metadata": {},
   "outputs": [],
   "source": [
    "genomes_1 = genomes[2:3]\n",
    "genomes_1"
   ]
  },
  {
   "cell_type": "code",
   "execution_count": null,
   "id": "b9b665be-0f03-422c-8d5e-a7b4c5f53432",
   "metadata": {},
   "outputs": [],
   "source": [
    "string = '''\n",
    "#PBS -l nodes=1:ppn=10\n",
    "#PBS -l walltime=2:00:00\n",
    "#PBS -l mem=60gb\n",
    "#PBS -S /bin/bash\n",
    "\n",
    "source /beegfs/work/workspace/ws/ho_kezau83-conda-0/conda/etc/profile.d/conda.sh\n",
    "conda activate cctyper\n",
    "\n",
    "cctyper %s %s --prodigal meta --no_plot -t 10\n",
    "\n",
    "conda deactivate\n",
    "'''\n",
    "!mkdir cctyper\n",
    "for hq_genome in hq_genomes:\n",
    "    path_genomes_fasta = ws+'/hq_genomes/%s.fasta' %hq_genome\n",
    "    out_path = ws+'/cctyper/%s' %hq_genome\n",
    "    bash(string%(path_genomes_fasta, out_path, ),'%s_cctyper'%hq_genome,'short')"
   ]
  },
  {
   "cell_type": "code",
   "execution_count": null,
   "id": "02d6bc34-ce4d-4676-9d80-bdb9a01a4c09",
   "metadata": {},
   "outputs": [],
   "source": [
    "# move sapcer to the new directory \n",
    "!mkdir spacers\n",
    "for hq_genome in hq_genomes:\n",
    "  oldass = ws+'/cctyper/%s/spacers/*' %hq_genome\n",
    "  newass = ws+'/spacers/'\n",
    "  !cp $oldass $newass"
   ]
  },
  {
   "cell_type": "code",
   "execution_count": null,
   "id": "df29015e-918b-4dea-8b7e-5bc9f36c3123",
   "metadata": {},
   "outputs": [],
   "source": [
    "# create spacers files\n",
    "!cat spacers/* > all_spacers.fasta"
   ]
  },
  {
   "cell_type": "code",
   "execution_count": null,
   "id": "9747ea8a-4adf-45d7-b387-a9107ad1497c",
   "metadata": {},
   "outputs": [],
   "source": [
    "#count spacers\n",
    "!cat all_spacers.fasta | grep \">\" | wc"
   ]
  },
  {
   "cell_type": "code",
   "execution_count": null,
   "id": "4e807b61-7d24-4b14-a89d-cb1b880ab608",
   "metadata": {},
   "outputs": [],
   "source": [
    "#remove spacers from folder\n",
    "!rm -r spacers"
   ]
  },
  {
   "cell_type": "code",
   "execution_count": null,
   "id": "7c62ff56-69df-4ca9-97ac-ad671a6fad73",
   "metadata": {},
   "outputs": [],
   "source": [
    "# move CRISPR-Cas-loci to the new directory \n",
    "!mkdir crispr_cas_loci\n",
    "for hq_genome in hq_genomes:\n",
    "  oldass = ws+'cctyper/%s/CRISPR_Cas.tab' %hq_genome\n",
    "  newass = ws+'crispr_cas_loci/%s_CRISPR_Cas.tab' %hq_genome\n",
    "  !cp $oldass $newass"
   ]
  },
  {
   "cell_type": "code",
   "execution_count": null,
   "id": "7f71d397-205e-4a55-9fed-7072a098c9ee",
   "metadata": {},
   "outputs": [],
   "source": [
    "!zip all_cas_loci.zip crispr_cas_loci/*"
   ]
  },
  {
   "cell_type": "code",
   "execution_count": null,
   "id": "44cf9044-619a-4a2e-9912-1b531b4c4e8c",
   "metadata": {},
   "outputs": [],
   "source": [
    "# move CRISPR-orphan to the new directory \n",
    "!mkdir crispr_orphan\n",
    "for genome in genomes:\n",
    "  oldass = ws+'/cctyper/%s/crisprs_orphan.tab' %genome\n",
    "  newass = ws+'/crispr_orphan/%s_crisprs_orphan.tab' %genome\n",
    "  !cp $oldass $newass"
   ]
  },
  {
   "cell_type": "code",
   "execution_count": null,
   "id": "e1f16a4b-10d9-458d-9449-4cf8badaec50",
   "metadata": {},
   "outputs": [],
   "source": [
    "# move cas operons to the new directory \n",
    "!mkdir cas_orphan\n",
    "for genome in genomes:\n",
    "  oldass = ws+'/cctyper/%s/cas_operons_orphan.tab' %genome\n",
    "  newass = ws+'/cas_orphan/%s_cas_operons_orphan.tab' %genome\n",
    "  !cp $oldass $newass"
   ]
  },
  {
   "cell_type": "markdown",
   "id": "6384ff79-0a2f-4116-9a19-87a320423620",
   "metadata": {},
   "source": [
    "## Match spacers againts phage db"
   ]
  },
  {
   "cell_type": "code",
   "execution_count": null,
   "id": "b45fd9f7-bdec-45c0-b47e-5d16ebd4f01c",
   "metadata": {},
   "outputs": [],
   "source": [
    "#download rumen phage db\n",
    "!wget https://zenodo.org/record/7412085/files/RVD.fa?download=1"
   ]
  },
  {
   "cell_type": "code",
   "execution_count": null,
   "id": "dc2afb5d-be98-4c29-8689-df1b71fffd59",
   "metadata": {},
   "outputs": [],
   "source": [
    "#rename db\n",
    "!mv RVD.fa\\?download\\=1 rumen_phages.fasta"
   ]
  },
  {
   "cell_type": "code",
   "execution_count": null,
   "id": "fe003ebb-cce2-440c-bda6-8661296e038b",
   "metadata": {},
   "outputs": [],
   "source": [
    "# make a database file\n",
    "string = '''\n",
    "#PBS -l nodes=1:ppn=16\n",
    "#PBS -l walltime=24:00:00\n",
    "#PBS -l mem=80gb\n",
    "#PBS -S /bin/bash\n",
    "module load bio/blastplus/2.5.0\n",
    "makeblastdb -in %s -out %s -parse_seqids -dbtype nucl\n",
    "'''\n",
    "file_path = ws+'rumen_phages.fasta'\n",
    "db_path = ws+'rumen_phages/phages'\n",
    "bash(string%(file_path, db_path),'makedb', 'short')\n"
   ]
  },
  {
   "cell_type": "code",
   "execution_count": null,
   "id": "a2810b60-ad3e-44b1-b142-1136860be570",
   "metadata": {},
   "outputs": [],
   "source": [
    "string = '''\n",
    "#PBS -l nodes=1:ppn=16\n",
    "#PBS -l walltime=24:00:00\n",
    "#PBS -l mem=80gb\n",
    "#PBS -S /bin/bash\n",
    "module load bio/blastplus/2.5.0\n",
    "blastn -task blastn-short -query %s -db %s -out %s -perc_identity 95 -max_target_seqs 1 -num_threads 16 -evalue 1e-4 -outfmt \"6 qseqid sseqid pident qcovs length mismatch gapopen qstart qend sstart send evalue bitscore\"\n",
    "\n",
    "'''\n",
    "file_path = ws+'all_spacers.fasta'\n",
    "db_path = ws+'rumen_phages/phages'\n",
    "out_file = ws+'spacers_match_proviruses.txt'\n",
    "bash(string%(file_path, db_path,out_file),'blastn', 'short')"
   ]
  },
  {
   "cell_type": "code",
   "execution_count": null,
   "id": "454c5ce0-1b1f-4de6-8353-8ae1e6995df5",
   "metadata": {},
   "outputs": [],
   "source": [
    "!rm -r phylophlan/*"
   ]
  },
  {
   "cell_type": "code",
   "execution_count": null,
   "id": "30385ce8-a381-46ef-b186-9e4de88200d1",
   "metadata": {},
   "outputs": [],
   "source": [
    "!mkdir genomes_prodigal"
   ]
  },
  {
   "cell_type": "code",
   "execution_count": null,
   "id": "81ce413d-51ef-47bd-8a95-7cf93fa546d9",
   "metadata": {},
   "outputs": [],
   "source": [
    "!mv padloc_new_db/*.faa genomes_prodigal/"
   ]
  },
  {
   "cell_type": "code",
   "execution_count": null,
   "id": "27d90a06-b2b0-4787-ae45-4beda5e09bd5",
   "metadata": {},
   "outputs": [],
   "source": [
    "genomes_1=genomes[1:2]\n",
    "genomes_1"
   ]
  },
  {
   "cell_type": "code",
   "execution_count": null,
   "id": "84d70e65-4691-4b65-97fe-88b679e06d79",
   "metadata": {},
   "outputs": [],
   "source": [
    "#ccfinder\n",
    "string = '''\n",
    "#PBS -l nodes=1:ppn=10\n",
    "#PBS -l walltime=2:00:00\n",
    "#PBS -l mem=60gb\n",
    "#PBS -S /bin/bash\n",
    "\n",
    "export SINGULARITY_CACHEDIR=/beegfs/work/workspace/ws/ho_kezau83-cow_rumen-0/ccfinder\n",
    "cd /beegfs/work/workspace/ws/ho_kezau83-cow_rumen-0/ccfinder\n",
    "singularity exec -B $PWD /beegfs/work/workspace/ws/ho_kezau83-cow_rumen-0/CrisprCasFinder.simg perl /usr/local/CRISPRCasFinder/CRISPRCasFinder.pl -so /usr/local/CRISPRCasFinder/sel392v2.so -cf /usr/local/CRISPRCasFinder/CasFinder-2.0.3 -drpt /usr/local/CRISPRCasFinder/supplementary_files/repeatDirection.tsv -rpts /usr/local/CRISPRCasFinder/supplementary_files/Repeat_List.csv -cas -def G -out %s -in %s\n",
    "'''\n",
    "!mkdir ccfinder\n",
    "for genome in genomes_1:\n",
    "    path_genomes_fasta = ws+'/formatted_genomes/%s.fasta' %genome\n",
    "    out_path = ws+'/ccfinder/%s' %genome\n",
    "    bash(string%(out_path, path_genomes_fasta),'%s_ccfinder'%genome,'short')\n"
   ]
  },
  {
   "cell_type": "code",
   "execution_count": null,
   "id": "6fd541db-1c9d-4a28-93b4-598a08add730",
   "metadata": {},
   "outputs": [],
   "source": [
    "genomes6 = genomes[5000:6000]"
   ]
  },
  {
   "cell_type": "code",
   "execution_count": null,
   "id": "ba232157-1ade-4649-bd77-e33aed65a37b",
   "metadata": {},
   "outputs": [],
   "source": [
    "for genome in genomes6:\n",
    "  oldass = ws+'/formatted_genomes/%s.fasta' %genome\n",
    "  newass = ws+'/new_analysis/genomes/genomes6/%s.fasta' %genome\n",
    "  !sed -e 's/\\r$//' $oldass > $newass"
   ]
  },
  {
   "cell_type": "code",
   "execution_count": null,
   "id": "3ca833fe-a4f2-4595-9fd0-48d0124269c6",
   "metadata": {},
   "outputs": [],
   "source": [
    "genomes_90complet = open('new_analysis/genomes/90complet_list.txt').read().splitlines()\n"
   ]
  },
  {
   "cell_type": "code",
   "execution_count": null,
   "id": "eea47562-c8fc-4381-80fb-9e66775f71a1",
   "metadata": {},
   "outputs": [],
   "source": [
    "for genome in genomes_90complet:\n",
    "  oldass = ws+'/new_analysis/genomes/all_genomes/%s.fasta' %genome\n",
    "  newass = ws+'/new_analysis/genomes/90complet_genomes/'\n",
    "  !mv $oldass $newass"
   ]
  },
  {
   "cell_type": "code",
   "execution_count": null,
   "id": "1d034a9a-984c-48e5-bd2b-cd0c3cfd85d3",
   "metadata": {},
   "outputs": [],
   "source": [
    "!mkdir archive_cctyper"
   ]
  },
  {
   "cell_type": "code",
   "execution_count": null,
   "id": "ca6d83b4-4632-4a29-9798-f6b4c55234a6",
   "metadata": {},
   "outputs": [],
   "source": [
    "!wget https://ccb-microbe.cs.uni-saarland.de/plsdb/plasmids/download/plsdb.fna.bz2"
   ]
  },
  {
   "cell_type": "code",
   "execution_count": null,
   "id": "3c85348a-4eb1-4bf4-b9e9-56970988105c",
   "metadata": {},
   "outputs": [],
   "source": [
    "!bzip2 -d plsdb.fna.bz2"
   ]
  },
  {
   "cell_type": "code",
   "execution_count": null,
   "id": "df77512c-da0b-4afb-8219-6b8d313ccdec",
   "metadata": {},
   "outputs": [],
   "source": [
    "!cat checkv/filtered_viral_listid.txt | sed 's/^/>/g' > checkv/filtered_id.txt"
   ]
  },
  {
   "cell_type": "code",
   "execution_count": null,
   "id": "1d900584-c153-4730-9c74-ed3f0a843b8b",
   "metadata": {},
   "outputs": [],
   "source": [
    "!cat checkv/proviruses.fna | sed 's/ .*//g' > checkv/clean_proviruses.fna"
   ]
  },
  {
   "cell_type": "code",
   "execution_count": null,
   "id": "d04acefb-92ba-4cb1-a6a5-7ae9f7add375",
   "metadata": {},
   "outputs": [],
   "source": [
    "!cat checkv/clean_proviruses.fna | grep -A 1 -f checkv/filtered_id.txt > checkv/filtered_proviruses.fna"
   ]
  },
  {
   "cell_type": "code",
   "execution_count": null,
   "id": "c261d21a-70aa-46af-a910-ce1d8ea43cf7",
   "metadata": {},
   "outputs": [],
   "source": [
    "!cat checkv/filtered_proviruses.fna | grep \">\" | wc"
   ]
  },
  {
   "cell_type": "code",
   "execution_count": null,
   "id": "c2a0d017-3274-4866-836a-733c7b8f363a",
   "metadata": {},
   "outputs": [],
   "source": [
    "!cat checkv/filtered_proviruses.faa | sed 's/||/_/g' > checkv/clean_filtered_proviruses.faa"
   ]
  },
  {
   "cell_type": "markdown",
   "id": "6793c6ec-bf10-44c6-8d6a-dae444a35950",
   "metadata": {},
   "source": [
    "# Individual tress"
   ]
  },
  {
   "cell_type": "code",
   "execution_count": null,
   "id": "dbd7e00a-124a-432d-b809-a024c1bf1e80",
   "metadata": {},
   "outputs": [],
   "source": [
    "prevotella_genomes = open('list_genomes_trees/Prevotella_list.txt').read().splitlines()\n",
    "prevotella_genomes"
   ]
  },
  {
   "cell_type": "code",
   "execution_count": null,
   "id": "1621ff92-8b9b-4d25-9133-704e9d3b4c03",
   "metadata": {},
   "outputs": [],
   "source": [
    "for prevotella_genome in prevotella_genomes:\n",
    "    file_in = 'hq_genomes/%s.fasta' %prevotella_genome\n",
    "    file_out = 'prevotella//%s.fasta' %prevotella_genome\n",
    "    !cp $file_in $file_out"
   ]
  },
  {
   "cell_type": "code",
   "execution_count": null,
   "id": "1fd1c102-5d9c-40b8-ad95-d8e42260216c",
   "metadata": {},
   "outputs": [],
   "source": [
    "limimorpha_genomes = open('list_genomes_trees/Limimorpha_list.txt').read().splitlines()\n",
    "limimorpha_genomes"
   ]
  },
  {
   "cell_type": "code",
   "execution_count": null,
   "id": "730e92ef-4f84-4386-af2d-9552dff2d6bd",
   "metadata": {},
   "outputs": [],
   "source": [
    "for limimorpha_genome in limimorpha_genomes:\n",
    "    file_in = 'hq_genomes/%s.fasta' %limimorpha_genome\n",
    "    file_out = 'Limimorpha/%s.fasta' %limimorpha_genome\n",
    "    !cp $file_in $file_out"
   ]
  },
  {
   "cell_type": "code",
   "execution_count": null,
   "id": "cd8501db-f6ae-46f8-8f83-8fec8ccb78a1",
   "metadata": {},
   "outputs": [],
   "source": [
    "butyvibrio_genomes = open('list_genomes_trees/Butirivibrio_list.txt').read().splitlines()\n",
    "butyvibrio_genomes"
   ]
  },
  {
   "cell_type": "code",
   "execution_count": null,
   "id": "dc83db63-26cb-4709-a136-24a58eae7c17",
   "metadata": {},
   "outputs": [],
   "source": [
    "for butyvibrio_genome in butyvibrio_genomes:\n",
    "    file_in = 'hq_genomes/%s.fasta' %butyvibrio_genome\n",
    "    file_out = 'butyvibrio/%s.fasta' %butyvibrio_genome\n",
    "    !cp $file_in $file_out"
   ]
  },
  {
   "cell_type": "code",
   "execution_count": null,
   "id": "35024a95-ca9f-4439-b64e-6c6f15bb54f9",
   "metadata": {},
   "outputs": [],
   "source": [
    "rumino_genomes = open('list_genomes_trees/Ruminococcus_list.txt').read().splitlines()\n",
    "rumino_genomes"
   ]
  },
  {
   "cell_type": "code",
   "execution_count": null,
   "id": "f24d78cc-5284-4e07-bbfe-f0c42a1435b9",
   "metadata": {},
   "outputs": [],
   "source": [
    "for rumino_genome in rumino_genomes:\n",
    "    file_in = 'hq_genomes/%s.fasta' %rumino_genome\n",
    "    file_out = 'ruminococcus/%s.fasta' %rumino_genome\n",
    "    !cp $file_in $file_out"
   ]
  },
  {
   "cell_type": "code",
   "execution_count": null,
   "id": "48604bd5-677c-498e-ad4b-283b88131198",
   "metadata": {},
   "outputs": [],
   "source": [
    "string = '''\n",
    "#PBS -l nodes=1:ppn=12\n",
    "#PBS -l walltime=4:00:00\n",
    "#PBS -l mem=64gb\n",
    "#PBS -S /bin/bash\n",
    "source /beegfs/work/workspace/ws/ho_kezau83-conda-0/conda/etc/profile.d/conda.sh\n",
    "conda activate drep\n",
    "dRep dereplicate -d -p 12 %s -g %s -comp 89 -con 10 --genomeInfo %s -sa 0.95\n",
    "'''\n",
    "!mkdir ruminococcus/drep\n",
    "drep_out = ws+'/Limimorpha/drep95'\n",
    "genomes_path = ws+'/Limimorpha/*.fasta'\n",
    "checkm = ws+'/list_genomes_trees/checkm_limimorpha.txt'\n",
    "bash(string%(drep_out, genomes_path, checkm), 'drep', 'short')"
   ]
  },
  {
   "cell_type": "code",
   "execution_count": null,
   "id": "347dac2c-8069-4900-b829-0ce28b08d01a",
   "metadata": {},
   "outputs": [],
   "source": [
    "!zip all_prevotella prevotella/drep/dereplicated_genomes/*"
   ]
  },
  {
   "cell_type": "markdown",
   "id": "a1410cb1-30a4-44b8-8831-9448d76e74a9",
   "metadata": {},
   "source": [
    "# Metabolic annotation"
   ]
  },
  {
   "cell_type": "code",
   "execution_count": null,
   "id": "080c275e-5e4b-4474-8b7d-c0d675437484",
   "metadata": {},
   "outputs": [],
   "source": [
    "!unzip dram_chickens/assemblies.zip -d dram_chickens"
   ]
  },
  {
   "cell_type": "code",
   "execution_count": null,
   "id": "2bb780cd-361b-4b82-b193-3eb22cafa218",
   "metadata": {},
   "outputs": [],
   "source": [
    "# annotation with DRAM\n",
    "string = '''\n",
    "#PBS -l nodes=1:ppn=20\n",
    "#PBS -l walltime=24:00:00\n",
    "#PBS -l mem=200gb\n",
    "#PBS -S /bin/bash\n",
    "\n",
    "#activate conda\n",
    "source /beegfs/work/workspace/ws/ho_kezau83-conda-0/conda/etc/profile.d/conda.sh\n",
    "conda activate DRAM\n",
    "\n",
    "#run program\n",
    "DRAM.py annotate -i '/beegfs/work/workspace/ws/ho_kezau83-rumen_df-0/dram_chickens/assemblies/*.fasta' -o %s\n",
    "'''\n",
    "\n",
    "out_folder= ws+'/dram_chickens/dram_out'\n",
    "bash(string%(out_folder), 'dram', 'smp')"
   ]
  },
  {
   "cell_type": "code",
   "execution_count": null,
   "id": "8a78fb68-cc88-4202-897c-f763d65bbe68",
   "metadata": {},
   "outputs": [],
   "source": [
    "#distill functions with DRAM\n",
    "string = '''\n",
    "#PBS -l nodes=1:ppn=10\n",
    "#PBS -l walltime=06:00:00\n",
    "#PBS -l mem=40gb\n",
    "#PBS -S /bin/bash\n",
    "\n",
    "#activate conda\n",
    "source /beegfs/work/workspace/ws/ho_kezau83-conda-0/conda/etc/profile.d/conda.sh\n",
    "conda activate DRAM\n",
    "\n",
    "#run program\n",
    "DRAM.py distill -i %s -o %s --trna_path %s --rrna_path %s \n",
    "'''\n",
    "in_file = ws+'/dram_chickens/dram_out/annotations.tsv'\n",
    "out_folder= ws+'/dram_chickens/dram_out/distilled'\n",
    "trna =  ws+'/dram_chickens/dram_out/trnas.tsv'\n",
    "rrna = ws+'/dram_chickens/dram_out/rrnas.tsv'\n",
    "bash(string%(in_file, out_folder, trna,rrna), 'dram-distilled', 'short')"
   ]
  },
  {
   "cell_type": "code",
   "execution_count": null,
   "id": "a22d96d8-a371-45da-b38c-31c15f269a0e",
   "metadata": {},
   "outputs": [],
   "source": [
    "!zip all_limimorpha.zip Limimorpha/drep95/dereplicated_genomes/*"
   ]
  },
  {
   "cell_type": "code",
   "execution_count": null,
   "id": "194f79ee-f0ac-4378-a132-d2814cafdd43",
   "metadata": {},
   "outputs": [],
   "source": [
    "#mags chicken"
   ]
  },
  {
   "cell_type": "code",
   "execution_count": 3,
   "id": "7edc7bdd-5b4b-4172-96d9-5ecc7ec27dec",
   "metadata": {},
   "outputs": [
    {
     "name": "stdout",
     "output_type": "stream",
     "text": [
      "11076161\n"
     ]
    }
   ],
   "source": [
    "string ='''\n",
    "#PBS -l nodes=1:ppn=16\n",
    "#PBS -l walltime=96:00:00\n",
    "#PBS -l mem=64gb\n",
    "#PBS -q long\n",
    "#PBS -S /bin/bash\n",
    "# Activate conda enviroment\n",
    "source /beegfs/work/workspace/ws/ho_kezau83-conda-0/conda/etc/profile.d/conda.sh\n",
    "conda activate gtdbtk-2.3\n",
    "# Run\n",
    "gtdbtk classify_wf --genome_dir %s --extension fasta --out_dir %s --cpus 20 --skip_ani_screen\n",
    "'''\n",
    "path_genomes = ws+'archive_genomes/formatted_genomes/'\n",
    "out_dir = ws+'gtdb_new_defence_long'\n",
    "!mkdir $out_dir\n",
    "bash(string%(path_genomes, out_dir), 'gtdbtk_classify', 'long')"
   ]
  },
  {
   "cell_type": "code",
   "execution_count": null,
   "id": "282659d5-5d93-4dc5-bbc3-005892189423",
   "metadata": {},
   "outputs": [],
   "source": [
    "!rename '.fna' '' chicken_mags/*"
   ]
  },
  {
   "cell_type": "code",
   "execution_count": null,
   "id": "c1705095-d632-43ea-9831-d8f2ad02cb21",
   "metadata": {},
   "outputs": [],
   "source": [
    "for genome in $(tail -n +2  | cut -d$'\\t' -f 20 ); do wget $genome; done"
   ]
  }
 ],
 "metadata": {
  "kernelspec": {
   "display_name": "Python 3 (ipykernel)",
   "language": "python",
   "name": "python3"
  },
  "language_info": {
   "codemirror_mode": {
    "name": "ipython",
    "version": 3
   },
   "file_extension": ".py",
   "mimetype": "text/x-python",
   "name": "python",
   "nbconvert_exporter": "python",
   "pygments_lexer": "ipython3",
   "version": "3.9.15"
  }
 },
 "nbformat": 4,
 "nbformat_minor": 5
}
